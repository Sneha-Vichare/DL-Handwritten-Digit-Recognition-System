{
 "cells": [
  {
   "cell_type": "code",
   "execution_count": 1,
   "id": "6d47d6c0-d2aa-4db6-a9ef-0a2fdca552f3",
   "metadata": {},
   "outputs": [],
   "source": [
    "import numpy as np\n",
    "import matplotlib\n",
    "import matplotlib.pyplot as plt"
   ]
  },
  {
   "cell_type": "code",
   "execution_count": 69,
   "id": "98e9b8e4-85e2-4cd7-9a22-6059c858ee20",
   "metadata": {},
   "outputs": [],
   "source": [
    "import warnings\n",
    "warnings.filterwarnings('ignore')\n",
    "from tensorflow.python.util import deprecation\n",
    "deprecation._PRINT_DEPRECATION_WARNING= False"
   ]
  },
  {
   "cell_type": "code",
   "execution_count": 71,
   "id": "d15af6a6-7a45-457d-813a-12c2ca860720",
   "metadata": {},
   "outputs": [],
   "source": [
    "import os\n",
    "os.environ['TF_CPP_MIN_LOG_LEVEL']='3'"
   ]
  },
  {
   "cell_type": "code",
   "execution_count": 3,
   "id": "f16f96a4-f77d-4134-b923-165cf67d1e63",
   "metadata": {},
   "outputs": [],
   "source": [
    "from keras.datasets import mnist"
   ]
  },
  {
   "cell_type": "markdown",
   "id": "a309e6d6-7fec-4e1a-8842-927e1b61804d",
   "metadata": {},
   "source": [
    "The mnist dataset consists of 70000 images of handwritten digits."
   ]
  },
  {
   "cell_type": "markdown",
   "id": "1a21e569-a3f2-42eb-bb5a-ab9ee2218020",
   "metadata": {},
   "source": [
    "Defining our deep learning neural network using Keras packages. We import the Sequential, Dense, Dropout and Activation packages for defining the network architecture. We use load_model package for saving and retrieving our model. We also use np_utils for a few utilities that we need in our project. These imports are done with the following program statements"
   ]
  },
  {
   "cell_type": "code",
   "execution_count": 6,
   "id": "cbfde792-bc4c-453d-a101-e2823b6745e1",
   "metadata": {},
   "outputs": [],
   "source": [
    "from keras.models import Sequential, load_model\n",
    "from keras.layers import Dense, Dropout, Activation\n",
    "from keras.utils import to_categorical"
   ]
  },
  {
   "cell_type": "code",
   "execution_count": 7,
   "id": "0f675f22-658a-4905-9ddc-0612645075a0",
   "metadata": {},
   "outputs": [],
   "source": [
    "model=Sequential()"
   ]
  },
  {
   "cell_type": "code",
   "execution_count": 8,
   "id": "cc216316-a4cb-484c-bf2a-032f6337d982",
   "metadata": {},
   "outputs": [],
   "source": [
    "model.add(Dense(512, input_shape=(784,)))"
   ]
  },
  {
   "cell_type": "code",
   "execution_count": 9,
   "id": "8cc4447b-700a-448f-8f69-7b4465ca4416",
   "metadata": {},
   "outputs": [],
   "source": [
    "model.add(Activation('relu'))\n",
    "model.add(Dropout(0.2))"
   ]
  },
  {
   "cell_type": "markdown",
   "id": "0cf9c170-f5f3-40b7-aad2-ff8abc16a134",
   "metadata": {},
   "source": [
    "Hidden Layer"
   ]
  },
  {
   "cell_type": "code",
   "execution_count": 11,
   "id": "37e7b231-3d5d-4214-ba27-ed7fbdae7cde",
   "metadata": {},
   "outputs": [],
   "source": [
    "model.add(Dense(512))\n",
    "model.add(Activation('relu'))\n",
    "model.add(Dropout(0.2))"
   ]
  },
  {
   "cell_type": "markdown",
   "id": "0f15020a-5231-412e-a6a0-dbc955a81f76",
   "metadata": {},
   "source": [
    "Output Layer"
   ]
  },
  {
   "cell_type": "code",
   "execution_count": 13,
   "id": "3cce0935-4387-45f3-bb2b-88c097d986da",
   "metadata": {},
   "outputs": [],
   "source": [
    "model.add(Dense(10))"
   ]
  },
  {
   "cell_type": "code",
   "execution_count": 14,
   "id": "8c0bdc67-4a25-4945-aae2-70a6a0d953d9",
   "metadata": {},
   "outputs": [],
   "source": [
    "model.add(Activation('softmax'))"
   ]
  },
  {
   "cell_type": "code",
   "execution_count": 15,
   "id": "8781cdc6-fc7c-4a14-b394-36e546329609",
   "metadata": {},
   "outputs": [
    {
     "name": "stdout",
     "output_type": "stream",
     "text": [
      "Network Architecture Defined\n"
     ]
    }
   ],
   "source": [
    "print('Network Architecture Defined')"
   ]
  },
  {
   "cell_type": "code",
   "execution_count": 16,
   "id": "e9e7d273-ce88-45b9-bfb8-154c3aa047a3",
   "metadata": {},
   "outputs": [],
   "source": [
    "#Compiling the model\n",
    "model.compile(loss='categorical_crossentropy', metrics=['accuracy'], optimizer='adam')"
   ]
  },
  {
   "cell_type": "code",
   "execution_count": 17,
   "id": "f8db344b-204f-41d5-b200-b98fd8812d0c",
   "metadata": {},
   "outputs": [],
   "source": [
    "#Loading Data\n",
    "(X_train, Y_train), (X_test, Y_test)=mnist.load_data()"
   ]
  },
  {
   "cell_type": "code",
   "execution_count": 18,
   "id": "b88bc6d1-b554-4aa4-8354-606edb317388",
   "metadata": {},
   "outputs": [
    {
     "data": {
      "image/png": "[encoded data removed]",
      "text/plain": [
       "<Figure size 640x480 with 10 Axes>"
      ]
     },
     "metadata": {},
     "output_type": "display_data"
    }
   ],
   "source": [
    "#Printing first 10 images\n",
    "\n",
    "for i in range(10):\n",
    "    plt.subplot(3,5,i+1)\n",
    "    plt.tight_layout()\n",
    "    plt.imshow(X_train[i], cmap='gray', interpolation='none')\n",
    "    plt.title(\"Digit: {}\".format(Y_train[i]))\n",
    "    plt.xticks([])\n",
    "    plt.yticks([])"
   ]
  },
  {
   "cell_type": "code",
   "execution_count": 19,
   "id": "77abd5b9-4dc9-4fcf-b639-b6b2bf7ce382",
   "metadata": {},
   "outputs": [],
   "source": [
    "#Reshaping input vector\n",
    "X_train=X_train.reshape(60000,784)\n",
    "X_test=X_test.reshape(10000, 784)"
   ]
  },
  {
   "cell_type": "code",
   "execution_count": 20,
   "id": "300b0adf-d1ca-4b79-af3e-1dfac95dbf35",
   "metadata": {},
   "outputs": [],
   "source": [
    "#Normalizing data\n",
    "X_train= X_train.astype('float32')\n",
    "X_test = X_test.astype('float32')\n",
    "X_train /= 255\n",
    "X_test /= 255"
   ]
  },
  {
   "cell_type": "code",
   "execution_count": 21,
   "id": "02fa573d-d660-4f64-8f30-873080bc2626",
   "metadata": {},
   "outputs": [
    {
     "data": {
      "text/plain": [
       "Text(0.5, 1.0, 'Digit: 5')"
      ]
     },
     "execution_count": 21,
     "metadata": {},
     "output_type": "execute_result"
    },
    {
     "data": {
      "image/png": "[encoded data removed]",
      "text/plain": [
       "<Figure size 640x480 with 1 Axes>"
      ]
     },
     "metadata": {},
     "output_type": "display_data"
    }
   ],
   "source": [
    "plt.hist(X_train[0])\n",
    "plt.title(\"Digit: {}\".format(Y_train[0]))"
   ]
  },
  {
   "cell_type": "code",
   "execution_count": 22,
   "id": "aed6ae40-da8a-459e-a696-8bb20f960227",
   "metadata": {},
   "outputs": [
    {
     "name": "stdout",
     "output_type": "stream",
     "text": [
      "(array([0, 1, 2, 3, 4, 5, 6, 7, 8, 9], dtype=uint8), array([5923, 6742, 5958, 6131, 5842, 5421, 5918, 6265, 5851, 5949],\n",
      "      dtype=int64))\n"
     ]
    }
   ],
   "source": [
    "#number of unique values and the number of occurrences of each digit\n",
    "print(np.unique(Y_train, return_counts=True))"
   ]
  },
  {
   "cell_type": "code",
   "execution_count": 23,
   "id": "5fc16099-00a9-4c6b-9913-437ad037bea3",
   "metadata": {},
   "outputs": [],
   "source": [
    "n_classes=10\n",
    "Y_train=to_categorical(Y_train, n_classes)"
   ]
  },
  {
   "cell_type": "code",
   "execution_count": 24,
   "id": "79b72786-44a7-46ef-902a-0faa430a696b",
   "metadata": {},
   "outputs": [
    {
     "name": "stdout",
     "output_type": "stream",
     "text": [
      "[0. 0. 0. 0. 0. 1. 0. 0. 0. 0.]\n",
      "[1. 0. 0. 0. 0. 0. 0. 0. 0. 0.]\n",
      "[0. 0. 0. 0. 1. 0. 0. 0. 0. 0.]\n",
      "[0. 1. 0. 0. 0. 0. 0. 0. 0. 0.]\n",
      "[0. 0. 0. 0. 0. 0. 0. 0. 0. 1.]\n"
     ]
    }
   ],
   "source": [
    "for i in range(5):\n",
    "    print(Y_train[i])"
   ]
  },
  {
   "cell_type": "code",
   "execution_count": 25,
   "id": "feb19dfd-6f1f-4641-bb44-c8f148b2144d",
   "metadata": {},
   "outputs": [],
   "source": [
    "Y_test=to_categorical(Y_test, n_classes)"
   ]
  },
  {
   "cell_type": "code",
   "execution_count": 26,
   "id": "ed242f88-7a17-490d-878d-650b6ea020bb",
   "metadata": {},
   "outputs": [
    {
     "data": {
      "text/html": [
       "<pre style=\"white-space:pre;overflow-x:auto;line-height:normal;font-family:Menlo,'DejaVu Sans Mono',consolas,'Courier New',monospace\"><span style=\"font-weight: bold\">Model: \"sequential\"</span>\n",
       "</pre>\n"
      ],
      "text/plain": [
       "\u001b[1mModel: \"sequential\"\u001b[0m\n"
      ]
     },
     "metadata": {},
     "output_type": "display_data"
    },
    {
     "data": {
      "text/html": [
       "<pre style=\"white-space:pre;overflow-x:auto;line-height:normal;font-family:Menlo,'DejaVu Sans Mono',consolas,'Courier New',monospace\">┏━━━━━━━━━━━━━━━━━━━━━━━━━━━━━━━━━┳━━━━━━━━━━━━━━━━━━━━━━━━┳━━━━━━━━━━━━━━━┓\n",
       "┃<span style=\"font-weight: bold\"> Layer (type)                    </span>┃<span style=\"font-weight: bold\"> Output Shape           </span>┃<span style=\"font-weight: bold\">       Param # </span>┃\n",
       "┡━━━━━━━━━━━━━━━━━━━━━━━━━━━━━━━━━╇━━━━━━━━━━━━━━━━━━━━━━━━╇━━━━━━━━━━━━━━━┩\n",
       "│ dense (<span style=\"color: #0087ff; text-decoration-color: #0087ff\">Dense</span>)                   │ (<span style=\"color: #00d7ff; text-decoration-color: #00d7ff\">None</span>, <span style=\"color: #00af00; text-decoration-color: #00af00\">512</span>)            │       <span style=\"color: #00af00; text-decoration-color: #00af00\">401,920</span> │\n",
       "├─────────────────────────────────┼────────────────────────┼───────────────┤\n",
       "│ activation (<span style=\"color: #0087ff; text-decoration-color: #0087ff\">Activation</span>)         │ (<span style=\"color: #00d7ff; text-decoration-color: #00d7ff\">None</span>, <span style=\"color: #00af00; text-decoration-color: #00af00\">512</span>)            │             <span style=\"color: #00af00; text-decoration-color: #00af00\">0</span> │\n",
       "├─────────────────────────────────┼────────────────────────┼───────────────┤\n",
       "│ dropout (<span style=\"color: #0087ff; text-decoration-color: #0087ff\">Dropout</span>)               │ (<span style=\"color: #00d7ff; text-decoration-color: #00d7ff\">None</span>, <span style=\"color: #00af00; text-decoration-color: #00af00\">512</span>)            │             <span style=\"color: #00af00; text-decoration-color: #00af00\">0</span> │\n",
       "├─────────────────────────────────┼────────────────────────┼───────────────┤\n",
       "│ dense_1 (<span style=\"color: #0087ff; text-decoration-color: #0087ff\">Dense</span>)                 │ (<span style=\"color: #00d7ff; text-decoration-color: #00d7ff\">None</span>, <span style=\"color: #00af00; text-decoration-color: #00af00\">512</span>)            │       <span style=\"color: #00af00; text-decoration-color: #00af00\">262,656</span> │\n",
       "├─────────────────────────────────┼────────────────────────┼───────────────┤\n",
       "│ activation_1 (<span style=\"color: #0087ff; text-decoration-color: #0087ff\">Activation</span>)       │ (<span style=\"color: #00d7ff; text-decoration-color: #00d7ff\">None</span>, <span style=\"color: #00af00; text-decoration-color: #00af00\">512</span>)            │             <span style=\"color: #00af00; text-decoration-color: #00af00\">0</span> │\n",
       "├─────────────────────────────────┼────────────────────────┼───────────────┤\n",
       "│ dropout_1 (<span style=\"color: #0087ff; text-decoration-color: #0087ff\">Dropout</span>)             │ (<span style=\"color: #00d7ff; text-decoration-color: #00d7ff\">None</span>, <span style=\"color: #00af00; text-decoration-color: #00af00\">512</span>)            │             <span style=\"color: #00af00; text-decoration-color: #00af00\">0</span> │\n",
       "├─────────────────────────────────┼────────────────────────┼───────────────┤\n",
       "│ dense_2 (<span style=\"color: #0087ff; text-decoration-color: #0087ff\">Dense</span>)                 │ (<span style=\"color: #00d7ff; text-decoration-color: #00d7ff\">None</span>, <span style=\"color: #00af00; text-decoration-color: #00af00\">10</span>)             │         <span style=\"color: #00af00; text-decoration-color: #00af00\">5,130</span> │\n",
       "├─────────────────────────────────┼────────────────────────┼───────────────┤\n",
       "│ activation_2 (<span style=\"color: #0087ff; text-decoration-color: #0087ff\">Activation</span>)       │ (<span style=\"color: #00d7ff; text-decoration-color: #00d7ff\">None</span>, <span style=\"color: #00af00; text-decoration-color: #00af00\">10</span>)             │             <span style=\"color: #00af00; text-decoration-color: #00af00\">0</span> │\n",
       "└─────────────────────────────────┴────────────────────────┴───────────────┘\n",
       "</pre>\n"
      ],
      "text/plain": [
       "┏━━━━━━━━━━━━━━━━━━━━━━━━━━━━━━━━━┳━━━━━━━━━━━━━━━━━━━━━━━━┳━━━━━━━━━━━━━━━┓\n",
       "┃\u001b[1m \u001b[0m\u001b[1mLayer (type)                   \u001b[0m\u001b[1m \u001b[0m┃\u001b[1m \u001b[0m\u001b[1mOutput Shape          \u001b[0m\u001b[1m \u001b[0m┃\u001b[1m \u001b[0m\u001b[1m      Param #\u001b[0m\u001b[1m \u001b[0m┃\n",
       "┡━━━━━━━━━━━━━━━━━━━━━━━━━━━━━━━━━╇━━━━━━━━━━━━━━━━━━━━━━━━╇━━━━━━━━━━━━━━━┩\n",
       "│ dense (\u001b[38;5;33mDense\u001b[0m)                   │ (\u001b[38;5;45mNone\u001b[0m, \u001b[38;5;34m512\u001b[0m)            │       \u001b[38;5;34m401,920\u001b[0m │\n",
       "├─────────────────────────────────┼────────────────────────┼───────────────┤\n",
       "│ activation (\u001b[38;5;33mActivation\u001b[0m)         │ (\u001b[38;5;45mNone\u001b[0m, \u001b[38;5;34m512\u001b[0m)            │             \u001b[38;5;34m0\u001b[0m │\n",
       "├─────────────────────────────────┼────────────────────────┼───────────────┤\n",
       "│ dropout (\u001b[38;5;33mDropout\u001b[0m)               │ (\u001b[38;5;45mNone\u001b[0m, \u001b[38;5;34m512\u001b[0m)            │             \u001b[38;5;34m0\u001b[0m │\n",
       "├─────────────────────────────────┼────────────────────────┼───────────────┤\n",
       "│ dense_1 (\u001b[38;5;33mDense\u001b[0m)                 │ (\u001b[38;5;45mNone\u001b[0m, \u001b[38;5;34m512\u001b[0m)            │       \u001b[38;5;34m262,656\u001b[0m │\n",
       "├─────────────────────────────────┼────────────────────────┼───────────────┤\n",
       "│ activation_1 (\u001b[38;5;33mActivation\u001b[0m)       │ (\u001b[38;5;45mNone\u001b[0m, \u001b[38;5;34m512\u001b[0m)            │             \u001b[38;5;34m0\u001b[0m │\n",
       "├─────────────────────────────────┼────────────────────────┼───────────────┤\n",
       "│ dropout_1 (\u001b[38;5;33mDropout\u001b[0m)             │ (\u001b[38;5;45mNone\u001b[0m, \u001b[38;5;34m512\u001b[0m)            │             \u001b[38;5;34m0\u001b[0m │\n",
       "├─────────────────────────────────┼────────────────────────┼───────────────┤\n",
       "│ dense_2 (\u001b[38;5;33mDense\u001b[0m)                 │ (\u001b[38;5;45mNone\u001b[0m, \u001b[38;5;34m10\u001b[0m)             │         \u001b[38;5;34m5,130\u001b[0m │\n",
       "├─────────────────────────────────┼────────────────────────┼───────────────┤\n",
       "│ activation_2 (\u001b[38;5;33mActivation\u001b[0m)       │ (\u001b[38;5;45mNone\u001b[0m, \u001b[38;5;34m10\u001b[0m)             │             \u001b[38;5;34m0\u001b[0m │\n",
       "└─────────────────────────────────┴────────────────────────┴───────────────┘\n"
      ]
     },
     "metadata": {},
     "output_type": "display_data"
    },
    {
     "data": {
      "text/html": [
       "<pre style=\"white-space:pre;overflow-x:auto;line-height:normal;font-family:Menlo,'DejaVu Sans Mono',consolas,'Courier New',monospace\"><span style=\"font-weight: bold\"> Total params: </span><span style=\"color: #00af00; text-decoration-color: #00af00\">669,706</span> (2.55 MB)\n",
       "</pre>\n"
      ],
      "text/plain": [
       "\u001b[1m Total params: \u001b[0m\u001b[38;5;34m669,706\u001b[0m (2.55 MB)\n"
      ]
     },
     "metadata": {},
     "output_type": "display_data"
    },
    {
     "data": {
      "text/html": [
       "<pre style=\"white-space:pre;overflow-x:auto;line-height:normal;font-family:Menlo,'DejaVu Sans Mono',consolas,'Courier New',monospace\"><span style=\"font-weight: bold\"> Trainable params: </span><span style=\"color: #00af00; text-decoration-color: #00af00\">669,706</span> (2.55 MB)\n",
       "</pre>\n"
      ],
      "text/plain": [
       "\u001b[1m Trainable params: \u001b[0m\u001b[38;5;34m669,706\u001b[0m (2.55 MB)\n"
      ]
     },
     "metadata": {},
     "output_type": "display_data"
    },
    {
     "data": {
      "text/html": [
       "<pre style=\"white-space:pre;overflow-x:auto;line-height:normal;font-family:Menlo,'DejaVu Sans Mono',consolas,'Courier New',monospace\"><span style=\"font-weight: bold\"> Non-trainable params: </span><span style=\"color: #00af00; text-decoration-color: #00af00\">0</span> (0.00 B)\n",
       "</pre>\n"
      ],
      "text/plain": [
       "\u001b[1m Non-trainable params: \u001b[0m\u001b[38;5;34m0\u001b[0m (0.00 B)\n"
      ]
     },
     "metadata": {},
     "output_type": "display_data"
    }
   ],
   "source": [
    "model.summary()"
   ]
  },
  {
   "cell_type": "code",
   "execution_count": 27,
   "id": "35d58675-4aeb-4e57-9134-e329a632559c",
   "metadata": {},
   "outputs": [
    {
     "name": "stdout",
     "output_type": "stream",
     "text": [
      "Epoch 1/20\n",
      "469/469 - 9s - 19ms/step - accuracy: 0.9263 - loss: 0.2466 - val_accuracy: 0.9689 - val_loss: 0.0995\n",
      "Epoch 2/20\n",
      "469/469 - 7s - 14ms/step - accuracy: 0.9694 - loss: 0.0995 - val_accuracy: 0.9730 - val_loss: 0.0883\n",
      "Epoch 3/20\n",
      "469/469 - 7s - 15ms/step - accuracy: 0.9776 - loss: 0.0715 - val_accuracy: 0.9761 - val_loss: 0.0771\n",
      "Epoch 4/20\n",
      "469/469 - 6s - 13ms/step - accuracy: 0.9822 - loss: 0.0549 - val_accuracy: 0.9750 - val_loss: 0.0809\n",
      "Epoch 5/20\n",
      "469/469 - 7s - 14ms/step - accuracy: 0.9847 - loss: 0.0470 - val_accuracy: 0.9809 - val_loss: 0.0632\n",
      "Epoch 6/20\n",
      "469/469 - 6s - 14ms/step - accuracy: 0.9868 - loss: 0.0400 - val_accuracy: 0.9797 - val_loss: 0.0766\n",
      "Epoch 7/20\n",
      "469/469 - 6s - 14ms/step - accuracy: 0.9896 - loss: 0.0323 - val_accuracy: 0.9776 - val_loss: 0.0820\n",
      "Epoch 8/20\n",
      "469/469 - 7s - 15ms/step - accuracy: 0.9900 - loss: 0.0293 - val_accuracy: 0.9808 - val_loss: 0.0731\n",
      "Epoch 9/20\n",
      "469/469 - 6s - 13ms/step - accuracy: 0.9900 - loss: 0.0301 - val_accuracy: 0.9834 - val_loss: 0.0666\n",
      "Epoch 10/20\n",
      "469/469 - 7s - 14ms/step - accuracy: 0.9916 - loss: 0.0251 - val_accuracy: 0.9809 - val_loss: 0.0816\n",
      "Epoch 11/20\n",
      "469/469 - 6s - 14ms/step - accuracy: 0.9919 - loss: 0.0243 - val_accuracy: 0.9838 - val_loss: 0.0707\n",
      "Epoch 12/20\n",
      "469/469 - 6s - 14ms/step - accuracy: 0.9926 - loss: 0.0218 - val_accuracy: 0.9831 - val_loss: 0.0694\n",
      "Epoch 13/20\n",
      "469/469 - 7s - 14ms/step - accuracy: 0.9933 - loss: 0.0202 - val_accuracy: 0.9825 - val_loss: 0.0750\n",
      "Epoch 14/20\n",
      "469/469 - 6s - 13ms/step - accuracy: 0.9929 - loss: 0.0210 - val_accuracy: 0.9816 - val_loss: 0.0738\n",
      "Epoch 15/20\n",
      "469/469 - 7s - 15ms/step - accuracy: 0.9944 - loss: 0.0179 - val_accuracy: 0.9811 - val_loss: 0.0779\n",
      "Epoch 16/20\n",
      "469/469 - 6s - 14ms/step - accuracy: 0.9942 - loss: 0.0170 - val_accuracy: 0.9812 - val_loss: 0.0850\n",
      "Epoch 17/20\n",
      "469/469 - 7s - 14ms/step - accuracy: 0.9939 - loss: 0.0187 - val_accuracy: 0.9820 - val_loss: 0.0798\n",
      "Epoch 18/20\n",
      "469/469 - 7s - 14ms/step - accuracy: 0.9948 - loss: 0.0146 - val_accuracy: 0.9844 - val_loss: 0.0751\n",
      "Epoch 19/20\n",
      "469/469 - 6s - 14ms/step - accuracy: 0.9944 - loss: 0.0161 - val_accuracy: 0.9832 - val_loss: 0.0855\n",
      "Epoch 20/20\n",
      "469/469 - 7s - 16ms/step - accuracy: 0.9955 - loss: 0.0140 - val_accuracy: 0.9818 - val_loss: 0.0850\n"
     ]
    }
   ],
   "source": [
    "history=model.fit(X_train,Y_train,batch_size=128, epochs=20, verbose=2, validation_data=(X_test, Y_test))"
   ]
  },
  {
   "cell_type": "code",
   "execution_count": 28,
   "id": "75eb550d-b8e2-4e7e-9716-5eb13647395c",
   "metadata": {},
   "outputs": [
    {
     "name": "stdout",
     "output_type": "stream",
     "text": [
      "313/313 - 1s - 3ms/step - accuracy: 0.9818 - loss: 0.0850\n"
     ]
    }
   ],
   "source": [
    "loss_and_metrics=model.evaluate(X_test, Y_test, verbose=2)"
   ]
  },
  {
   "cell_type": "code",
   "execution_count": 29,
   "id": "d6701e9d-e1d3-4830-872f-e67d062519b0",
   "metadata": {},
   "outputs": [
    {
     "name": "stdout",
     "output_type": "stream",
     "text": [
      "Test Loss:  0.08499234914779663\n",
      "Test Accuracy:  0.9818000197410583\n"
     ]
    }
   ],
   "source": [
    "print(\"Test Loss: \", loss_and_metrics[0])\n",
    "print(\"Test Accuracy: \", loss_and_metrics[1])"
   ]
  },
  {
   "cell_type": "code",
   "execution_count": 30,
   "id": "7d804492-4e10-4e0c-8b56-ad3bd42ec561",
   "metadata": {},
   "outputs": [
    {
     "data": {
      "text/plain": [
       "<matplotlib.legend.Legend at 0x27c93283ce0>"
      ]
     },
     "execution_count": 30,
     "metadata": {},
     "output_type": "execute_result"
    },
    {
     "data": {
      "image/png": "[encoded data removed]",
      "text/plain": [
       "<Figure size 640x480 with 1 Axes>"
      ]
     },
     "metadata": {},
     "output_type": "display_data"
    }
   ],
   "source": [
    "#Plotting accuracy metrics\n",
    "plt.subplot(2,1,1)\n",
    "plt.plot(history.history['accuracy'])\n",
    "plt.plot(history.history['val_accuracy'])\n",
    "plt.title('model accuracy')\n",
    "plt.ylabel('accuracy')\n",
    "plt.xlabel('epoch')\n",
    "plt.legend(['train', 'test'], loc='lower right')"
   ]
  },
  {
   "cell_type": "code",
   "execution_count": 31,
   "id": "7358070c-163b-4bd0-93da-55d81c420b77",
   "metadata": {},
   "outputs": [
    {
     "data": {
      "text/plain": [
       "<matplotlib.legend.Legend at 0x27c927ba900>"
      ]
     },
     "execution_count": 31,
     "metadata": {},
     "output_type": "execute_result"
    },
    {
     "data": {
      "image/png": "[encoded data removed]",
      "text/plain": [
       "<Figure size 640x480 with 1 Axes>"
      ]
     },
     "metadata": {},
     "output_type": "display_data"
    }
   ],
   "source": [
    "plt.subplot(2,1,2)\n",
    "plt.plot(history.history['loss'])\n",
    "plt.plot(history.history['val_loss'])\n",
    "plt.title('model loss')\n",
    "plt.ylabel('loss')\n",
    "plt.xlabel('epoch')\n",
    "plt.legend(['train', 'test'], loc='upper right')"
   ]
  },
  {
   "cell_type": "code",
   "execution_count": 32,
   "id": "5b9752a8-1018-4b43-a1ba-f1bcabfc0f23",
   "metadata": {},
   "outputs": [
    {
     "name": "stdout",
     "output_type": "stream",
     "text": [
      "\u001b[1m313/313\u001b[0m \u001b[32m━━━━━━━━━━━━━━━━━━━━\u001b[0m\u001b[37m\u001b[0m \u001b[1m1s\u001b[0m 3ms/step   \n"
     ]
    }
   ],
   "source": [
    "predictions=model.predict(X_test)"
   ]
  },
  {
   "cell_type": "code",
   "execution_count": 33,
   "id": "9168d9f2-4f48-4be6-94d7-ca5797190000",
   "metadata": {},
   "outputs": [],
   "source": [
    "correct_predictions=np.nonzero(predictions==Y_test)[0]\n",
    "incorrect_predictions=np.nonzero(predictions!=Y_test)[0]"
   ]
  },
  {
   "cell_type": "code",
   "execution_count": 34,
   "id": "e993b4bd-5a65-4028-bb87-df0a95c17dc2",
   "metadata": {},
   "outputs": [
    {
     "name": "stdout",
     "output_type": "stream",
     "text": [
      "6437  Classified correctly\n",
      "93563  Classified incorrectly\n"
     ]
    }
   ],
   "source": [
    "print(len(correct_predictions),\" Classified correctly\")\n",
    "print(len(incorrect_predictions),\" Classified incorrectly\")"
   ]
  },
  {
   "cell_type": "code",
   "execution_count": 75,
   "id": "1d8bc83b-b47b-4f42-b4b2-c2a705076795",
   "metadata": {},
   "outputs": [
    {
     "name": "stderr",
     "output_type": "stream",
     "text": [
      "WARNING:absl:You are saving your model as an HDF5 file via `model.save()` or `keras.saving.save_model(model)`. This file format is considered legacy. We recommend using instead the native Keras format, e.g. `model.save('my_model.keras')` or `keras.saving.save_model(model, 'my_model.keras')`. \n"
     ]
    },
    {
     "name": "stdout",
     "output_type": "stream",
     "text": [
      "Saved trained model at ./models/handwrittendigitrecognition.h5 \n"
     ]
    }
   ],
   "source": [
    "#Saving Model\n",
    "directory = \"./models/\"\n",
    "name = 'handwrittendigitrecognition.h5'\n",
    "path = os.path.join(directory, name)\n",
    "model.save(path)\n",
    "print('Saved trained model at %s ' % path)"
   ]
  },
  {
   "cell_type": "code",
   "execution_count": 77,
   "id": "49f2e1ba-8579-4003-9924-824ee2e9f540",
   "metadata": {},
   "outputs": [
    {
     "name": "stderr",
     "output_type": "stream",
     "text": [
      "WARNING:absl:Compiled the loaded model, but the compiled metrics have yet to be built. `model.compile_metrics` will be empty until you train or evaluate the model.\n"
     ]
    }
   ],
   "source": [
    "model = load_model ('./models/handwrittendigitrecognition.h5')"
   ]
  },
  {
   "cell_type": "code",
   "execution_count": null,
   "id": "e5e3fc2a-7df9-4ad0-bbe9-29d2eded9549",
   "metadata": {},
   "outputs": [],
   "source": []
  }
 ],
 "metadata": {
  "kernelspec": {
   "display_name": "Python [conda env:base] *",
   "language": "python",
   "name": "conda-base-py"
  },
  "language_info": {
   "codemirror_mode": {
    "name": "ipython",
    "version": 3
   },
   "file_extension": ".py",
   "mimetype": "text/x-python",
   "name": "python",
   "nbconvert_exporter": "python",
   "pygments_lexer": "ipython3",
   "version": "3.12.7"
  }
 },
 "nbformat": 4,
 "nbformat_minor": 5
}
